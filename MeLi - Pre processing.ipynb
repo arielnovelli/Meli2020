{
 "cells": [
  {
   "cell_type": "code",
   "execution_count": 3,
   "metadata": {
    "execution": {
     "iopub.execute_input": "2020-11-16T14:38:30.458149Z",
     "iopub.status.busy": "2020-11-16T14:38:30.457150Z",
     "iopub.status.idle": "2020-11-16T14:38:31.594124Z",
     "shell.execute_reply": "2020-11-16T14:38:31.593117Z",
     "shell.execute_reply.started": "2020-11-16T14:38:30.458149Z"
    }
   },
   "outputs": [
    {
     "name": "stderr",
     "output_type": "stream",
     "text": [
      "C:\\ProgramData\\Anaconda3\\envs\\env-meli\\lib\\site-packages\\tqdm\\std.py:668: FutureWarning: The Panel class is removed from pandas. Accessing it from the top-level namespace will also be removed in the next version\n",
      "  from pandas import Panel\n"
     ]
    }
   ],
   "source": [
    "import json\n",
    "import gzip\n",
    "import gc\n",
    "import math\n",
    "import numpy as np\n",
    "import pandas as pd\n",
    "import random\n",
    "from collections import Counter, defaultdict\n",
    "from sklearn.model_selection import train_test_split\n",
    "from tqdm.notebook import trange, tqdm\n",
    "from sklearn.metrics import ndcg_score\n",
    "#from challenge_metric import ndcg_score\n",
    "tqdm.pandas()\n"
   ]
  },
  {
   "cell_type": "code",
   "execution_count": 4,
   "metadata": {
    "execution": {
     "iopub.execute_input": "2020-11-16T14:38:31.596090Z",
     "iopub.status.busy": "2020-11-16T14:38:31.596090Z",
     "iopub.status.idle": "2020-11-16T14:38:31.631093Z",
     "shell.execute_reply": "2020-11-16T14:38:31.625086Z",
     "shell.execute_reply.started": "2020-11-16T14:38:31.596090Z"
    }
   },
   "outputs": [],
   "source": [
    "def jl_to_list(filename):\n",
    "    output=[]\n",
    "    with gzip.open(filename, 'rb') as f:\n",
    "        for line in tqdm(f):\n",
    "            output.append(json.loads(line))\n",
    "    return output\n",
    "\n",
    "def dominios_visitados(row, max_views=15):\n",
    "    domains = Counter()\n",
    "    viewed = [ev['event_info'] for ev in row['user_history'] if ev['event_type'] == 'view']\n",
    "    if len(viewed) > max_views:\n",
    "        viewed = viewed[:15]\n",
    "    for iten in viewed:\n",
    "        domain = metadata[item]['domain_id']\n",
    "        domains[domain] += 1\n",
    "    return domains\n",
    "\n",
    "def top_items(domain, k=10):\n",
    "    top = ventas_x_dominio[domain]\n",
    "    top = Counter(top)\n",
    "    top = top.most_common(k)\n",
    "    return [x[0] for x in top]\n",
    "\n",
    "def top_by_best_domain(row, k=10):\n",
    "    viewed = [ev['event_info'] for ev in row['user_history'] if ev['event_type'] == 'view']\n",
    "    if len(viewed) == 0:\n",
    "        return random.choices(all_items, k=k)\n",
    "    domain = dominios_visitados(row)\n",
    "    domain = domain.most_common(1)[0][0]\n",
    "    return top_items(domain, k=k)\n",
    "\n",
    "def last_viewed(row, k=10):\n",
    "    viewed = [ev for ev in row['user_history'] if ev['event_type'] == 'view']\n",
    "    viewed = sorted(viewed, key=lambda x: x['event_timestamp'], reverse=True)\n",
    "    viewed = [ev['event_info'] for ev in viewed]\n",
    "    recom = []\n",
    "    for item in viewed:\n",
    "        if item not in recom:\n",
    "            recom.append(item)\n",
    "            \n",
    "    if len(recom) > 10:\n",
    "        recom = recom[:10]\n",
    "        \n",
    "    if len(recom) == 10:\n",
    "        return recom\n",
    "    \n",
    "    k = 10 - len(recom)\n",
    "    relleno = random.choices(all_items, k=k)\n",
    "    return recom + relleno\n",
    "\n",
    "def get_item_scores(row):\n",
    "    item_scores = defaultdict(int)\n",
    "    for ev in row['user_history']:\n",
    "        if ev['event_type'] == 'view':\n",
    "            for k, v in vistas_compras[int(ev['event_info'])].items():\n",
    "                item_scores[k]+=v\n",
    "    return Counter(item_scores)\n",
    "\n",
    "def vc_reco(row):\n",
    "    reco=[]\n",
    "    scores = get_item_scores(row)\n",
    "    most_common = scores.most_common()\n",
    "    for item, score in most_common:\n",
    "        reco.append(item)\n",
    "        if len(reco) == 10:\n",
    "            return reco\n",
    "    k = 10 - len(reco)\n",
    "    relleno = random.choices(all_items, k=k)\n",
    "    return reco + relleno\n",
    "\n",
    "def get_ndcg_score(y_true, y_pred, item_data, n_predictions=10):\n",
    "    #score = ndcg_score(y_true, y_pred, item_data, n_predictions=n_predictions)\n",
    "    score = ndcg_score(y_true, y_pred)\n",
    "    print(f'Your score is: {score}')"
   ]
  },
  {
   "cell_type": "code",
   "execution_count": 5,
   "metadata": {
    "execution": {
     "iopub.execute_input": "2020-11-16T14:38:31.636098Z",
     "iopub.status.busy": "2020-11-16T14:38:31.635086Z",
     "iopub.status.idle": "2020-11-16T14:38:56.247091Z",
     "shell.execute_reply": "2020-11-16T14:38:56.246089Z",
     "shell.execute_reply.started": "2020-11-16T14:38:31.636098Z"
    }
   },
   "outputs": [
    {
     "data": {
      "application/vnd.jupyter.widget-view+json": {
       "model_id": "dd806d90d0994946813de08f7586a301",
       "version_major": 2,
       "version_minor": 0
      },
      "text/plain": [
       "HBox(children=(FloatProgress(value=1.0, bar_style='info', layout=Layout(width='20px'), max=1.0), HTML(value=''…"
      ]
     },
     "metadata": {},
     "output_type": "display_data"
    },
    {
     "name": "stdout",
     "output_type": "stream",
     "text": [
      "\n"
     ]
    }
   ],
   "source": [
    "train_filename = 'train_dataset.jl.gz'\n",
    "test_filename = 'test_dataset.jl.gz'\n",
    "item_data_filename = 'item_data.jl.gz'\n",
    "\n",
    "samples = 50000\n",
    "rows = jl_to_list(train_filename)\n",
    "if samples:\n",
    "    rows = rows[:samples]\n",
    "\n",
    "rows_train, rows_test = train_test_split(rows, test_size=0.2, random_state=42)"
   ]
  },
  {
   "cell_type": "code",
   "execution_count": 6,
   "metadata": {
    "execution": {
     "iopub.execute_input": "2020-11-16T14:38:56.249086Z",
     "iopub.status.busy": "2020-11-16T14:38:56.248087Z",
     "iopub.status.idle": "2020-11-16T14:39:17.644564Z",
     "shell.execute_reply": "2020-11-16T14:39:17.643652Z",
     "shell.execute_reply.started": "2020-11-16T14:38:56.249086Z"
    }
   },
   "outputs": [
    {
     "data": {
      "application/vnd.jupyter.widget-view+json": {
       "model_id": "c4d97c05c1564a94ae22534ddb9b49cd",
       "version_major": 2,
       "version_minor": 0
      },
      "text/plain": [
       "HBox(children=(FloatProgress(value=1.0, bar_style='info', layout=Layout(width='20px'), max=1.0), HTML(value=''…"
      ]
     },
     "metadata": {},
     "output_type": "display_data"
    },
    {
     "name": "stdout",
     "output_type": "stream",
     "text": [
      "\n"
     ]
    }
   ],
   "source": [
    "item_data = jl_to_list(item_data_filename)\n",
    "metadata = {x['item_id']:x for x in item_data}\n",
    "all_items = list(metadata.keys())"
   ]
  },
  {
   "cell_type": "code",
   "execution_count": 7,
   "metadata": {
    "execution": {
     "iopub.execute_input": "2020-11-16T14:39:17.646570Z",
     "iopub.status.busy": "2020-11-16T14:39:17.645570Z",
     "iopub.status.idle": "2020-11-16T14:39:28.901567Z",
     "shell.execute_reply": "2020-11-16T14:39:28.900569Z",
     "shell.execute_reply.started": "2020-11-16T14:39:17.646570Z"
    }
   },
   "outputs": [
    {
     "data": {
      "application/vnd.jupyter.widget-view+json": {
       "model_id": "3d81bdef67ac4603916980c8e1839d0d",
       "version_major": 2,
       "version_minor": 0
      },
      "text/plain": [
       "HBox(children=(FloatProgress(value=1.0, bar_style='info', layout=Layout(width='20px'), max=1.0), HTML(value=''…"
      ]
     },
     "metadata": {},
     "output_type": "display_data"
    },
    {
     "name": "stdout",
     "output_type": "stream",
     "text": [
      "\n"
     ]
    },
    {
     "data": {
      "text/plain": [
       "{'user_history': [{'event_info': 1572239,\n",
       "   'event_timestamp': '2019-09-26T18:31:47.705-0400',\n",
       "   'event_type': 'view'},\n",
       "  {'event_info': 1572239,\n",
       "   'event_timestamp': '2019-09-26T18:35:04.724-0400',\n",
       "   'event_type': 'view'},\n",
       "  {'event_info': 1572239,\n",
       "   'event_timestamp': '2019-09-26T18:37:35.532-0400',\n",
       "   'event_type': 'view'},\n",
       "  {'event_info': 1572239,\n",
       "   'event_timestamp': '2019-09-26T18:38:54.680-0400',\n",
       "   'event_type': 'view'},\n",
       "  {'event_info': 1572239,\n",
       "   'event_timestamp': '2019-09-26T18:40:26.904-0400',\n",
       "   'event_type': 'view'},\n",
       "  {'event_info': 1572239,\n",
       "   'event_timestamp': '2019-09-26T18:40:35.707-0400',\n",
       "   'event_type': 'view'},\n",
       "  {'event_info': 1572239,\n",
       "   'event_timestamp': '2019-09-26T18:41:07.467-0400',\n",
       "   'event_type': 'view'},\n",
       "  {'event_info': 1572239,\n",
       "   'event_timestamp': '2019-09-26T18:41:47.445-0400',\n",
       "   'event_type': 'view'},\n",
       "  {'event_info': 1572239,\n",
       "   'event_timestamp': '2019-09-26T19:03:34.256-0400',\n",
       "   'event_type': 'view'},\n",
       "  {'event_info': 1194894,\n",
       "   'event_timestamp': '2019-09-27T21:33:38.704-0400',\n",
       "   'event_type': 'view'},\n",
       "  {'event_info': 'CINE BOX 4K',\n",
       "   'event_timestamp': '2019-09-30T00:50:22.598-0400',\n",
       "   'event_type': 'search'},\n",
       "  {'event_info': 'CINE BOX 4K',\n",
       "   'event_timestamp': '2019-09-30T00:50:39.702-0400',\n",
       "   'event_type': 'search'},\n",
       "  {'event_info': 'CINE BOX 4K',\n",
       "   'event_timestamp': '2019-09-30T00:50:50.571-0400',\n",
       "   'event_type': 'search'},\n",
       "  {'event_info': 'RECEPTOR CINE BOX 4K',\n",
       "   'event_timestamp': '2019-09-30T00:51:20.814-0400',\n",
       "   'event_type': 'search'},\n",
       "  {'event_info': 'RECEPTOR CINE BOX 4K',\n",
       "   'event_timestamp': '2019-09-30T00:51:30.327-0400',\n",
       "   'event_type': 'search'},\n",
       "  {'event_info': 'RECEPTOR CINE BOX 4K',\n",
       "   'event_timestamp': '2019-09-30T00:51:47.654-0400',\n",
       "   'event_type': 'search'},\n",
       "  {'event_info': 'RECEPTOR CINE BOX 4K',\n",
       "   'event_timestamp': '2019-09-30T00:52:00.254-0400',\n",
       "   'event_type': 'search'},\n",
       "  {'event_info': 'CINE BOX 4K',\n",
       "   'event_timestamp': '2019-09-30T00:52:10.746-0400',\n",
       "   'event_type': 'search'},\n",
       "  {'event_info': 'RECEPTOR CINE BOX 4K FANTASIA',\n",
       "   'event_timestamp': '2019-09-30T00:55:49.182-0400',\n",
       "   'event_type': 'search'},\n",
       "  {'event_info': 'RECEPTOR CINE BOX 4K FANTASIA',\n",
       "   'event_timestamp': '2019-09-30T00:56:18.165-0400',\n",
       "   'event_type': 'search'},\n",
       "  {'event_info': 'RECEPTOR CINE BOX 4K',\n",
       "   'event_timestamp': '2019-09-30T00:56:31.263-0400',\n",
       "   'event_type': 'search'},\n",
       "  {'event_info': 'RECEPTOR CINE BOX 4K',\n",
       "   'event_timestamp': '2019-09-30T00:56:38.583-0400',\n",
       "   'event_type': 'search'},\n",
       "  {'event_info': 'RECEPTOR CINE BOX 4K',\n",
       "   'event_timestamp': '2019-09-30T00:56:45.586-0400',\n",
       "   'event_type': 'search'},\n",
       "  {'event_info': 'RECEPTOR CINE BOX 4K',\n",
       "   'event_timestamp': '2019-09-30T00:56:52.136-0400',\n",
       "   'event_type': 'search'},\n",
       "  {'event_info': 'RECEPTOR CINE BOX EXTREME 4K',\n",
       "   'event_timestamp': '2019-09-30T00:57:36.921-0400',\n",
       "   'event_type': 'search'},\n",
       "  {'event_info': 'RECEPTOR CINE BOX EXTREME 4K',\n",
       "   'event_timestamp': '2019-09-30T00:57:48.261-0400',\n",
       "   'event_type': 'search'},\n",
       "  {'event_info': 'RECEPTOR CINE BOX EXTREME 4K',\n",
       "   'event_timestamp': '2019-09-30T00:57:58.135-0400',\n",
       "   'event_type': 'search'},\n",
       "  {'event_info': 'RECEPTOR CINE BOX EXTREME 4K',\n",
       "   'event_timestamp': '2019-09-30T00:58:06.088-0400',\n",
       "   'event_type': 'search'},\n",
       "  {'event_info': 685656,\n",
       "   'event_timestamp': '2019-09-30T00:58:18.892-0400',\n",
       "   'event_type': 'view'},\n",
       "  {'event_info': 'RECEPTOR CINE BOX EXTREME 4K',\n",
       "   'event_timestamp': '2019-09-30T00:58:48.281-0400',\n",
       "   'event_type': 'search'},\n",
       "  {'event_info': 'RECEPTOR CINE BOX 4K',\n",
       "   'event_timestamp': '2019-09-30T00:58:50.234-0400',\n",
       "   'event_type': 'search'},\n",
       "  {'event_info': 'RECEPTOR CINE BOX 4K FANTASIA',\n",
       "   'event_timestamp': '2019-09-30T00:58:52.476-0400',\n",
       "   'event_type': 'search'},\n",
       "  {'event_info': 'RECEPTOR CINE BOX 4K FANTASIA',\n",
       "   'event_timestamp': '2019-09-30T00:58:55.178-0400',\n",
       "   'event_type': 'search'}]}"
      ]
     },
     "execution_count": 7,
     "metadata": {},
     "output_type": "execute_result"
    }
   ],
   "source": [
    "test_rows = jl_to_list(test_filename)\n",
    "test_rows[0]"
   ]
  },
  {
   "cell_type": "code",
   "execution_count": 8,
   "metadata": {
    "execution": {
     "iopub.execute_input": "2020-11-16T14:39:28.902565Z",
     "iopub.status.busy": "2020-11-16T14:39:28.902565Z",
     "iopub.status.idle": "2020-11-16T14:39:29.804566Z",
     "shell.execute_reply": "2020-11-16T14:39:29.803565Z",
     "shell.execute_reply.started": "2020-11-16T14:39:28.902565Z"
    }
   },
   "outputs": [
    {
     "data": {
      "application/vnd.jupyter.widget-view+json": {
       "model_id": "312ebccdff564da2847913ecb4785aec",
       "version_major": 2,
       "version_minor": 0
      },
      "text/plain": [
       "HBox(children=(FloatProgress(value=0.0, max=40000.0), HTML(value='')))"
      ]
     },
     "metadata": {},
     "output_type": "display_data"
    },
    {
     "name": "stdout",
     "output_type": "stream",
     "text": [
      "\n"
     ]
    }
   ],
   "source": [
    "ventas_x_dominio = defaultdict(lambda: defaultdict(int))\n",
    "\n",
    "for row in tqdm(rows_train):    \n",
    "    viewed = [ev['event_info'] for ev in row['user_history'] if ev['event_type'] == 'view']\n",
    "    for item in viewed:\n",
    "        domain = metadata[item]['domain_id']\n",
    "        ventas_x_dominio[domain][item]+=1\n"
   ]
  },
  {
   "cell_type": "code",
   "execution_count": 9,
   "metadata": {
    "execution": {
     "iopub.execute_input": "2020-11-16T14:39:29.805567Z",
     "iopub.status.busy": "2020-11-16T14:39:29.805567Z",
     "iopub.status.idle": "2020-11-16T14:39:29.820566Z",
     "shell.execute_reply": "2020-11-16T14:39:29.819572Z",
     "shell.execute_reply.started": "2020-11-16T14:39:29.805567Z"
    }
   },
   "outputs": [
    {
     "data": {
      "text/plain": [
       "Counter({'MLB-CAR_AC_DASHBOARD_VENTS': 15})"
      ]
     },
     "execution_count": 9,
     "metadata": {},
     "output_type": "execute_result"
    }
   ],
   "source": [
    "dominios_visitados(rows_train[2])"
   ]
  },
  {
   "cell_type": "code",
   "execution_count": 10,
   "metadata": {
    "execution": {
     "iopub.execute_input": "2020-11-16T14:39:29.823565Z",
     "iopub.status.busy": "2020-11-16T14:39:29.822573Z",
     "iopub.status.idle": "2020-11-16T14:39:29.836568Z",
     "shell.execute_reply": "2020-11-16T14:39:29.834571Z",
     "shell.execute_reply.started": "2020-11-16T14:39:29.823565Z"
    }
   },
   "outputs": [
    {
     "data": {
      "text/plain": [
       "[154508,\n",
       " 298530,\n",
       " 259916,\n",
       " 508546,\n",
       " 1728938,\n",
       " 1540693,\n",
       " 1984130,\n",
       " 1232794,\n",
       " 2080778,\n",
       " 909392]"
      ]
     },
     "execution_count": 10,
     "metadata": {},
     "output_type": "execute_result"
    }
   ],
   "source": [
    "top_items('MLB-CAR_AC_DASHBOARD_VENTS')"
   ]
  },
  {
   "cell_type": "code",
   "execution_count": 11,
   "metadata": {
    "execution": {
     "iopub.execute_input": "2020-11-16T14:39:29.840569Z",
     "iopub.status.busy": "2020-11-16T14:39:29.839568Z",
     "iopub.status.idle": "2020-11-16T14:39:29.851583Z",
     "shell.execute_reply": "2020-11-16T14:39:29.850565Z",
     "shell.execute_reply.started": "2020-11-16T14:39:29.840569Z"
    }
   },
   "outputs": [
    {
     "data": {
      "text/plain": [
       "[154508,\n",
       " 298530,\n",
       " 259916,\n",
       " 508546,\n",
       " 1728938,\n",
       " 1540693,\n",
       " 1984130,\n",
       " 1232794,\n",
       " 2080778,\n",
       " 909392]"
      ]
     },
     "execution_count": 11,
     "metadata": {},
     "output_type": "execute_result"
    }
   ],
   "source": [
    "top_by_best_domain(rows_train[0])"
   ]
  },
  {
   "cell_type": "code",
   "execution_count": 12,
   "metadata": {
    "execution": {
     "iopub.execute_input": "2020-11-16T14:39:29.853567Z",
     "iopub.status.busy": "2020-11-16T14:39:29.853567Z",
     "iopub.status.idle": "2020-11-16T14:39:31.065565Z",
     "shell.execute_reply": "2020-11-16T14:39:31.064571Z",
     "shell.execute_reply.started": "2020-11-16T14:39:29.853567Z"
    }
   },
   "outputs": [
    {
     "data": {
      "application/vnd.jupyter.widget-view+json": {
       "model_id": "275f4ebde1ad4276ad585499b0e615c3",
       "version_major": 2,
       "version_minor": 0
      },
      "text/plain": [
       "HBox(children=(FloatProgress(value=0.0, max=10000.0), HTML(value='')))"
      ]
     },
     "metadata": {},
     "output_type": "display_data"
    },
    {
     "name": "stdout",
     "output_type": "stream",
     "text": [
      "\n"
     ]
    }
   ],
   "source": [
    "y_pred = []\n",
    "for row in tqdm(rows_test):\n",
    "    recom = top_by_best_domain(row)\n",
    "    y_pred.append(recom)"
   ]
  },
  {
   "cell_type": "code",
   "execution_count": 13,
   "metadata": {
    "execution": {
     "iopub.execute_input": "2020-11-16T14:39:31.067566Z",
     "iopub.status.busy": "2020-11-16T14:39:31.067566Z",
     "iopub.status.idle": "2020-11-16T14:39:31.081578Z",
     "shell.execute_reply": "2020-11-16T14:39:31.080565Z",
     "shell.execute_reply.started": "2020-11-16T14:39:31.067566Z"
    }
   },
   "outputs": [],
   "source": [
    "y_true = [row['item_bought'] for row in rows_test]"
   ]
  },
  {
   "cell_type": "code",
   "execution_count": 18,
   "metadata": {
    "execution": {
     "iopub.execute_input": "2020-11-16T14:42:21.198070Z",
     "iopub.status.busy": "2020-11-16T14:42:21.198070Z",
     "iopub.status.idle": "2020-11-16T14:42:21.243056Z",
     "shell.execute_reply": "2020-11-16T14:42:21.241083Z",
     "shell.execute_reply.started": "2020-11-16T14:42:21.198070Z"
    }
   },
   "outputs": [
    {
     "ename": "ValueError",
     "evalue": "Only ('multilabel-indicator', 'continuous-multioutput', 'multiclass-multioutput') formats are supported. Got multiclass instead",
     "output_type": "error",
     "traceback": [
      "\u001b[1;31m---------------------------------------------------------------------------\u001b[0m",
      "\u001b[1;31mValueError\u001b[0m                                Traceback (most recent call last)",
      "\u001b[1;32m<ipython-input-18-d4dcee59d78a>\u001b[0m in \u001b[0;36m<module>\u001b[1;34m\u001b[0m\n\u001b[1;32m----> 1\u001b[1;33m \u001b[0mget_ndcg_score\u001b[0m\u001b[1;33m(\u001b[0m\u001b[0mnp\u001b[0m\u001b[1;33m.\u001b[0m\u001b[0masarray\u001b[0m\u001b[1;33m(\u001b[0m\u001b[0my_true\u001b[0m\u001b[1;33m)\u001b[0m\u001b[1;33m,\u001b[0m \u001b[0my_pred\u001b[0m\u001b[1;33m,\u001b[0m \u001b[0mitem_data\u001b[0m\u001b[1;33m,\u001b[0m \u001b[0mn_predictions\u001b[0m\u001b[1;33m=\u001b[0m\u001b[1;36m10\u001b[0m\u001b[1;33m)\u001b[0m\u001b[1;33m\u001b[0m\u001b[1;33m\u001b[0m\u001b[0m\n\u001b[0m",
      "\u001b[1;32m<ipython-input-4-03ceddd3cc65>\u001b[0m in \u001b[0;36mget_ndcg_score\u001b[1;34m(y_true, y_pred, item_data, n_predictions)\u001b[0m\n\u001b[0;32m     71\u001b[0m \u001b[1;32mdef\u001b[0m \u001b[0mget_ndcg_score\u001b[0m\u001b[1;33m(\u001b[0m\u001b[0my_true\u001b[0m\u001b[1;33m,\u001b[0m \u001b[0my_pred\u001b[0m\u001b[1;33m,\u001b[0m \u001b[0mitem_data\u001b[0m\u001b[1;33m,\u001b[0m \u001b[0mn_predictions\u001b[0m\u001b[1;33m=\u001b[0m\u001b[1;36m10\u001b[0m\u001b[1;33m)\u001b[0m\u001b[1;33m:\u001b[0m\u001b[1;33m\u001b[0m\u001b[1;33m\u001b[0m\u001b[0m\n\u001b[0;32m     72\u001b[0m     \u001b[1;31m#score = ndcg_score(y_true, y_pred, item_data, n_predictions=n_predictions)\u001b[0m\u001b[1;33m\u001b[0m\u001b[1;33m\u001b[0m\u001b[1;33m\u001b[0m\u001b[0m\n\u001b[1;32m---> 73\u001b[1;33m     \u001b[0mscore\u001b[0m \u001b[1;33m=\u001b[0m \u001b[0mndcg_score\u001b[0m\u001b[1;33m(\u001b[0m\u001b[0my_true\u001b[0m\u001b[1;33m,\u001b[0m \u001b[0my_pred\u001b[0m\u001b[1;33m)\u001b[0m\u001b[1;33m\u001b[0m\u001b[1;33m\u001b[0m\u001b[0m\n\u001b[0m\u001b[0;32m     74\u001b[0m     \u001b[0mprint\u001b[0m\u001b[1;33m(\u001b[0m\u001b[1;34mf'Your score is: {score}'\u001b[0m\u001b[1;33m)\u001b[0m\u001b[1;33m\u001b[0m\u001b[1;33m\u001b[0m\u001b[0m\n",
      "\u001b[1;32mC:\\ProgramData\\Anaconda3\\envs\\env-meli\\lib\\site-packages\\sklearn\\utils\\validation.py\u001b[0m in \u001b[0;36minner_f\u001b[1;34m(*args, **kwargs)\u001b[0m\n\u001b[0;32m     70\u001b[0m                           FutureWarning)\n\u001b[0;32m     71\u001b[0m         \u001b[0mkwargs\u001b[0m\u001b[1;33m.\u001b[0m\u001b[0mupdate\u001b[0m\u001b[1;33m(\u001b[0m\u001b[1;33m{\u001b[0m\u001b[0mk\u001b[0m\u001b[1;33m:\u001b[0m \u001b[0marg\u001b[0m \u001b[1;32mfor\u001b[0m \u001b[0mk\u001b[0m\u001b[1;33m,\u001b[0m \u001b[0marg\u001b[0m \u001b[1;32min\u001b[0m \u001b[0mzip\u001b[0m\u001b[1;33m(\u001b[0m\u001b[0msig\u001b[0m\u001b[1;33m.\u001b[0m\u001b[0mparameters\u001b[0m\u001b[1;33m,\u001b[0m \u001b[0margs\u001b[0m\u001b[1;33m)\u001b[0m\u001b[1;33m}\u001b[0m\u001b[1;33m)\u001b[0m\u001b[1;33m\u001b[0m\u001b[1;33m\u001b[0m\u001b[0m\n\u001b[1;32m---> 72\u001b[1;33m         \u001b[1;32mreturn\u001b[0m \u001b[0mf\u001b[0m\u001b[1;33m(\u001b[0m\u001b[1;33m**\u001b[0m\u001b[0mkwargs\u001b[0m\u001b[1;33m)\u001b[0m\u001b[1;33m\u001b[0m\u001b[1;33m\u001b[0m\u001b[0m\n\u001b[0m\u001b[0;32m     73\u001b[0m     \u001b[1;32mreturn\u001b[0m \u001b[0minner_f\u001b[0m\u001b[1;33m\u001b[0m\u001b[1;33m\u001b[0m\u001b[0m\n\u001b[0;32m     74\u001b[0m \u001b[1;33m\u001b[0m\u001b[0m\n",
      "\u001b[1;32mC:\\ProgramData\\Anaconda3\\envs\\env-meli\\lib\\site-packages\\sklearn\\metrics\\_ranking.py\u001b[0m in \u001b[0;36mndcg_score\u001b[1;34m(y_true, y_score, k, sample_weight, ignore_ties)\u001b[0m\n\u001b[0;32m   1431\u001b[0m     \u001b[0my_score\u001b[0m \u001b[1;33m=\u001b[0m \u001b[0mcheck_array\u001b[0m\u001b[1;33m(\u001b[0m\u001b[0my_score\u001b[0m\u001b[1;33m,\u001b[0m \u001b[0mensure_2d\u001b[0m\u001b[1;33m=\u001b[0m\u001b[1;32mFalse\u001b[0m\u001b[1;33m)\u001b[0m\u001b[1;33m\u001b[0m\u001b[1;33m\u001b[0m\u001b[0m\n\u001b[0;32m   1432\u001b[0m     \u001b[0mcheck_consistent_length\u001b[0m\u001b[1;33m(\u001b[0m\u001b[0my_true\u001b[0m\u001b[1;33m,\u001b[0m \u001b[0my_score\u001b[0m\u001b[1;33m,\u001b[0m \u001b[0msample_weight\u001b[0m\u001b[1;33m)\u001b[0m\u001b[1;33m\u001b[0m\u001b[1;33m\u001b[0m\u001b[0m\n\u001b[1;32m-> 1433\u001b[1;33m     \u001b[0m_check_dcg_target_type\u001b[0m\u001b[1;33m(\u001b[0m\u001b[0my_true\u001b[0m\u001b[1;33m)\u001b[0m\u001b[1;33m\u001b[0m\u001b[1;33m\u001b[0m\u001b[0m\n\u001b[0m\u001b[0;32m   1434\u001b[0m     \u001b[0mgain\u001b[0m \u001b[1;33m=\u001b[0m \u001b[0m_ndcg_sample_scores\u001b[0m\u001b[1;33m(\u001b[0m\u001b[0my_true\u001b[0m\u001b[1;33m,\u001b[0m \u001b[0my_score\u001b[0m\u001b[1;33m,\u001b[0m \u001b[0mk\u001b[0m\u001b[1;33m=\u001b[0m\u001b[0mk\u001b[0m\u001b[1;33m,\u001b[0m \u001b[0mignore_ties\u001b[0m\u001b[1;33m=\u001b[0m\u001b[0mignore_ties\u001b[0m\u001b[1;33m)\u001b[0m\u001b[1;33m\u001b[0m\u001b[1;33m\u001b[0m\u001b[0m\n\u001b[0;32m   1435\u001b[0m     \u001b[1;32mreturn\u001b[0m \u001b[0mnp\u001b[0m\u001b[1;33m.\u001b[0m\u001b[0maverage\u001b[0m\u001b[1;33m(\u001b[0m\u001b[0mgain\u001b[0m\u001b[1;33m,\u001b[0m \u001b[0mweights\u001b[0m\u001b[1;33m=\u001b[0m\u001b[0msample_weight\u001b[0m\u001b[1;33m)\u001b[0m\u001b[1;33m\u001b[0m\u001b[1;33m\u001b[0m\u001b[0m\n",
      "\u001b[1;32mC:\\ProgramData\\Anaconda3\\envs\\env-meli\\lib\\site-packages\\sklearn\\metrics\\_ranking.py\u001b[0m in \u001b[0;36m_check_dcg_target_type\u001b[1;34m(y_true)\u001b[0m\n\u001b[0;32m   1172\u001b[0m         raise ValueError(\n\u001b[0;32m   1173\u001b[0m             \"Only {} formats are supported. Got {} instead\".format(\n\u001b[1;32m-> 1174\u001b[1;33m                 supported_fmt, y_type))\n\u001b[0m\u001b[0;32m   1175\u001b[0m \u001b[1;33m\u001b[0m\u001b[0m\n\u001b[0;32m   1176\u001b[0m \u001b[1;33m\u001b[0m\u001b[0m\n",
      "\u001b[1;31mValueError\u001b[0m: Only ('multilabel-indicator', 'continuous-multioutput', 'multiclass-multioutput') formats are supported. Got multiclass instead"
     ]
    }
   ],
   "source": [
    "get_ndcg_score(np.asarray(y_true), y_pred, item_data, n_predictions=10)"
   ]
  },
  {
   "cell_type": "code",
   "execution_count": 20,
   "metadata": {
    "execution": {
     "iopub.execute_input": "2020-11-16T14:58:24.859962Z",
     "iopub.status.busy": "2020-11-16T14:58:24.858961Z",
     "iopub.status.idle": "2020-11-16T14:58:33.865640Z",
     "shell.execute_reply": "2020-11-16T14:58:33.864715Z",
     "shell.execute_reply.started": "2020-11-16T14:58:24.859962Z"
    }
   },
   "outputs": [
    {
     "data": {
      "application/vnd.jupyter.widget-view+json": {
       "model_id": "cc098db698f54f9a9beb37426fedb820",
       "version_major": 2,
       "version_minor": 0
      },
      "text/plain": [
       "HBox(children=(FloatProgress(value=0.0, max=177070.0), HTML(value='')))"
      ]
     },
     "metadata": {},
     "output_type": "display_data"
    },
    {
     "name": "stdout",
     "output_type": "stream",
     "text": [
      "\n"
     ]
    }
   ],
   "source": [
    "\n",
    "y_pred = []\n",
    "for row in tqdm(test_rows):\n",
    "    recom = top_by_best_domain(row)\n",
    "    y_pred.append(recom)\n",
    "pd.DataFrame(y_pred).to_csv('submission.csv')"
   ]
  },
  {
   "cell_type": "code",
   "execution_count": null,
   "metadata": {
    "execution": {
     "iopub.status.busy": "2020-11-15T19:37:01.674660Z",
     "iopub.status.idle": "2020-11-15T19:37:01.675651Z",
     "shell.execute_reply": "2020-11-15T19:37:01.675651Z"
    }
   },
   "outputs": [],
   "source": [
    "last_viewed(rows[0])"
   ]
  },
  {
   "cell_type": "code",
   "execution_count": null,
   "metadata": {
    "execution": {
     "iopub.status.busy": "2020-11-15T19:37:01.676648Z",
     "iopub.status.idle": "2020-11-15T19:37:01.677654Z",
     "shell.execute_reply": "2020-11-15T19:37:01.677654Z"
    }
   },
   "outputs": [],
   "source": [
    "y_pred = []\n",
    "for row in tqdm(rows_test):\n",
    "    recom = last_viewed(row)\n",
    "    y_pred.append(recom)"
   ]
  },
  {
   "cell_type": "code",
   "execution_count": null,
   "metadata": {
    "execution": {
     "iopub.status.busy": "2020-11-15T19:37:01.678646Z",
     "iopub.status.idle": "2020-11-15T19:37:01.679648Z",
     "shell.execute_reply": "2020-11-15T19:37:01.679648Z"
    }
   },
   "outputs": [],
   "source": [
    "get_ndcg_score(y_true, y_pred, item_data, n_predictions=10)"
   ]
  },
  {
   "cell_type": "code",
   "execution_count": null,
   "metadata": {
    "execution": {
     "iopub.status.busy": "2020-11-15T19:37:01.680644Z",
     "iopub.status.idle": "2020-11-15T19:37:01.680644Z",
     "shell.execute_reply": "2020-11-15T19:37:01.680644Z"
    }
   },
   "outputs": [],
   "source": [
    "vistas_compras = defaultdict(lambda: defaultdict(int))\n",
    "for row in tqdm(rows_train):\n",
    "    for ev in row['user_history']:\n",
    "        if ev['event_type'] == 'view':\n",
    "            vistas_compras[int(ev['event_info'])][int(row['item_bought'])]+=1"
   ]
  },
  {
   "cell_type": "code",
   "execution_count": null,
   "metadata": {
    "execution": {
     "iopub.status.busy": "2020-11-15T19:37:01.681643Z",
     "iopub.status.idle": "2020-11-15T19:37:01.681643Z",
     "shell.execute_reply": "2020-11-15T19:37:01.681643Z"
    }
   },
   "outputs": [],
   "source": [
    "y_pred = []\n",
    "for row in tqdm(rows_test):\n",
    "    recom = vc_reco(row)\n",
    "    y_pred.append(recom)"
   ]
  },
  {
   "cell_type": "code",
   "execution_count": null,
   "metadata": {
    "execution": {
     "iopub.status.busy": "2020-11-15T19:37:01.682642Z",
     "iopub.status.idle": "2020-11-15T19:37:01.683644Z",
     "shell.execute_reply": "2020-11-15T19:37:01.682642Z"
    }
   },
   "outputs": [],
   "source": [
    "get_ndcg_score(y_true, y_pred, item_data, n_predictions=10)"
   ]
  },
  {
   "cell_type": "code",
   "execution_count": null,
   "metadata": {},
   "outputs": [],
   "source": []
  },
  {
   "cell_type": "code",
   "execution_count": null,
   "metadata": {
    "execution": {
     "iopub.status.busy": "2020-11-15T19:37:01.683644Z",
     "iopub.status.idle": "2020-11-15T19:37:01.684672Z",
     "shell.execute_reply": "2020-11-15T19:37:01.684672Z"
    }
   },
   "outputs": [],
   "source": [
    "#baselines se pueden usar como generadores\n"
   ]
  },
  {
   "cell_type": "code",
   "execution_count": 1,
   "metadata": {
    "execution": {
     "iopub.execute_input": "2020-11-16T14:37:58.388734Z",
     "iopub.status.busy": "2020-11-16T14:37:58.387767Z",
     "iopub.status.idle": "2020-11-16T14:38:01.002217Z",
     "shell.execute_reply": "2020-11-16T14:38:01.001224Z",
     "shell.execute_reply.started": "2020-11-16T14:37:58.388734Z"
    }
   },
   "outputs": [
    {
     "name": "stdout",
     "output_type": "stream",
     "text": [
      "DCG score :  4.670624189796882\n",
      "IDCG score :  4.761859507142915\n",
      "nDCG score :  0.980840401274087\n",
      "nDCG score (from function) :  0.980840401274087\n"
     ]
    }
   ],
   "source": [
    "# import required package \n",
    "from sklearn.metrics import ndcg_score, dcg_score \n",
    "import numpy as np \n",
    "\n",
    "# Releveance scores in Ideal order \n",
    "true_relevance = np.asarray([[3, 2, 1, 0, 0]]) \n",
    "\n",
    "# Releveance scores in output order \n",
    "relevance_score = np.asarray([[3, 2, 0, 0, 1]]) \n",
    "\n",
    "# DCG score \n",
    "dcg = dcg_score(true_relevance, relevance_score) \n",
    "print(\"DCG score : \", dcg) \n",
    "\n",
    "# IDCG score \n",
    "idcg = dcg_score(true_relevance, true_relevance) \n",
    "print(\"IDCG score : \", idcg) \n",
    "\n",
    "# Normalized DCG score \n",
    "ndcg = dcg / idcg \n",
    "print(\"nDCG score : \", ndcg) \n",
    "\n",
    "# or we can use the scikit-learn ndcg_score package \n",
    "print(\"nDCG score (from function) : \", ndcg_score( \n",
    "\ttrue_relevance, relevance_score)) \n"
   ]
  },
  {
   "cell_type": "code",
   "execution_count": 19,
   "metadata": {
    "execution": {
     "iopub.execute_input": "2020-11-16T14:43:03.425754Z",
     "iopub.status.busy": "2020-11-16T14:43:03.425754Z",
     "iopub.status.idle": "2020-11-16T14:43:03.439759Z",
     "shell.execute_reply": "2020-11-16T14:43:03.438784Z",
     "shell.execute_reply.started": "2020-11-16T14:43:03.425754Z"
    }
   },
   "outputs": [
    {
     "data": {
      "text/plain": [
       "array([[3, 2, 0, 0, 1]])"
      ]
     },
     "execution_count": 19,
     "metadata": {},
     "output_type": "execute_result"
    }
   ],
   "source": [
    "relevance_score"
   ]
  },
  {
   "cell_type": "code",
   "execution_count": null,
   "metadata": {},
   "outputs": [],
   "source": []
  }
 ],
 "metadata": {
  "kernelspec": {
   "display_name": "Python 3",
   "language": "python",
   "name": "python3"
  },
  "language_info": {
   "codemirror_mode": {
    "name": "ipython",
    "version": 3
   },
   "file_extension": ".py",
   "mimetype": "text/x-python",
   "name": "python",
   "nbconvert_exporter": "python",
   "pygments_lexer": "ipython3",
   "version": "3.7.8"
  }
 },
 "nbformat": 4,
 "nbformat_minor": 4
}
